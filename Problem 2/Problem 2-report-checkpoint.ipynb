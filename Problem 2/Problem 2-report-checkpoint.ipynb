{
 "cells": [
  {
   "cell_type": "markdown",
   "metadata": {},
   "source": [
    "# Problem 2\n",
    "\n",
    "##### Submitted by Amin Shojaeighadikolaei\n"
   ]
  },
  {
   "cell_type": "markdown",
   "metadata": {},
   "source": [
    "###### Problem 2 : Complete the Lab 3 script to implement validation and evaluation, similarly to the methods in the Lab 2 file."
   ]
  },
  {
   "cell_type": "code",
   "execution_count": 1,
   "metadata": {},
   "outputs": [],
   "source": [
    "import tensorflow as tf\n",
    "import tensorflow_datasets as tfds\n",
    "import numpy as np"
   ]
  },
  {
   "cell_type": "code",
   "execution_count": 2,
   "metadata": {},
   "outputs": [],
   "source": [
    "\n",
    "def one_hot_encode(Y) :\n",
    "    Output=[]\n",
    "    for y in Y:\n",
    "        if y == [0]:\n",
    "            y = [1,0,0,0,0,0,0,0,0,0]\n",
    "        elif y==[1]:\n",
    "            y = [0,1,0,0,0,0,0,0,0,0]\n",
    "        elif y==[2]:\n",
    "            y = [0,0,1,0,0,0,0,0,0,0]\n",
    "        elif y==[3]:\n",
    "            y = [0,0,0,1,0,0,0,0,0,0]\n",
    "        elif y==[4]:\n",
    "            y = [0,0,0,0,1,0,0,0,0,0]\n",
    "        elif y==[5]:\n",
    "            y = [0,0,0,0,0,1,0,0,0,0]\n",
    "        elif y==[6]:\n",
    "            y = [0,0,0,0,0,0,1,0,0,0]\n",
    "        elif y==[7]:\n",
    "            y = [0,0,0,0,0,0,0,1,0,0]\n",
    "        elif y==[8]:\n",
    "            y = [0,0,0,0,0,0,0,0,1,0]\n",
    "        elif y==[9]:\n",
    "            y = [0,0,0,0,0,0,0,0,0,1]\n",
    "        Output.append(y)\n",
    "    return np.asarray(Output)\n"
   ]
  },
  {
   "cell_type": "code",
   "execution_count": 3,
   "metadata": {},
   "outputs": [],
   "source": [
    "\n",
    "class MNISTmodel(tf.keras.Model):\n",
    "    def __init__(self):\n",
    "        super(MNISTmodel, self).__init__()\n",
    "        self.layer0 = tf.keras.layers.Flatten()\n",
    "        self.layer1 = tf.keras.layers.Dense(40, activation='relu')\n",
    "        self.layer2 = tf.keras.layers.Dense(40, activation='relu')\n",
    "        self.layer3 = tf.keras.layers.Dense(10, activation='softmax')\n",
    "\n",
    "    def call(self, X):\n",
    "        X1 = self.layer0(X)\n",
    "        X2 = self.layer1(X1)\n",
    "        X3 = self.layer2(X2)\n",
    "        Y = self.layer3(X3)\n",
    "        return Y"
   ]
  },
  {
   "cell_type": "code",
   "execution_count": 4,
   "metadata": {},
   "outputs": [],
   "source": [
    "def validation(data):\n",
    "    loss=[]\n",
    "    epsilon = 10e-15\n",
    "    for sample in data:\n",
    "        prediction = mlp(sample['image'])\n",
    "        Y_hat = prediction\n",
    "        Y_hat = np.clip(Y_hat, epsilon, 1.-epsilon)\n",
    "        cross = - np.log(Y_hat) * one_hot_encode(sample['label'])\n",
    "        los = np.mean(np.sum(cross,axis=1))\n",
    "        loss.append(los)\n",
    "        prediction = np.argmax(prediction, axis=0)\n",
    "        accuracy = np.mean(prediction == one_hot_encode(sample['label']))\n",
    "        \n",
    "    return np.mean(loss) , np.mean(accuracy)    \n",
    "    "
   ]
  },
  {
   "cell_type": "code",
   "execution_count": 5,
   "metadata": {},
   "outputs": [],
   "source": [
    "\n",
    "def iterate(images, labels):\n",
    "    with tf.GradientTape() as tape:\n",
    "        predictions = mlp(images)\n",
    "        l = loss(labels, predictions)\n",
    "    gradients = tape.gradient(l, mlp.trainable_variables)\n",
    "    op.apply_gradients(zip(gradients, mlp.trainable_variables))\n",
    "\n",
    "    mlp_loss(l)\n",
    "    mlp_accuracy(labels, predictions)"
   ]
  },
  {
   "cell_type": "code",
   "execution_count": 6,
   "metadata": {},
   "outputs": [],
   "source": [
    "il_train = tfds.load('mnist', shuffle_files=True, batch_size=32)\n",
    "train = il_train['train'].take(int(0.75 * 60000))\n",
    "val = il_train['train'].take(int(0.25 * 60000))\n",
    "test = il_train['test']"
   ]
  },
  {
   "cell_type": "code",
   "execution_count": 7,
   "metadata": {},
   "outputs": [],
   "source": [
    "mlp = MNISTmodel()\n",
    "mlp_loss = tf.keras.metrics.Mean()\n",
    "mlp_accuracy = tf.keras.metrics.SparseCategoricalAccuracy()"
   ]
  },
  {
   "cell_type": "code",
   "execution_count": 8,
   "metadata": {},
   "outputs": [],
   "source": [
    "loss = tf.keras.losses.SparseCategoricalCrossentropy()\n",
    "op = tf.keras.optimizers.Adam()"
   ]
  },
  {
   "cell_type": "code",
   "execution_count": 9,
   "metadata": {},
   "outputs": [
    {
     "name": "stdout",
     "output_type": "stream",
     "text": [
      "Epoch 1/2 - train loss: 7.541131973266602 - train accuracy: 0.5255500078201294, validation loss 14.198443961195622 validation accuraccy: 0.478125\n",
      "Epoch 2/2 - train loss: 5.902205944061279 - train accuracy: 0.630299985408783, validation loss 10.779337157277208 validation accuraccy: 0.365625\n"
     ]
    }
   ],
   "source": [
    "\n",
    "for epoch in range(2):\n",
    "    mlp_loss.reset_states()\n",
    "    mlp_accuracy.reset_states()\n",
    "\n",
    "    for example in train:\n",
    "        iterate(example['image'], example['label'])\n",
    "        \n",
    "    validation_loss, accuracy = validation(val)\n",
    "\n",
    "    print('Epoch {}/2 - train loss: {} - train accuracy: {}, validation loss {} validation accuraccy: {}'.format(\n",
    "        epoch + 1, mlp_loss.result(), mlp_accuracy.result(), validation_loss, accuracy))\n"
   ]
  },
  {
   "cell_type": "code",
   "execution_count": 10,
   "metadata": {},
   "outputs": [
    {
     "name": "stdout",
     "output_type": "stream",
     "text": [
      "train loss: 5.902205944061279 - train accuracy: 0.630299985408783, test loss 10.84970944588127 test accuraccy: 0.35\n"
     ]
    }
   ],
   "source": [
    "test_loss, accuracy = validation(test)\n",
    "print('train loss: {} - train accuracy: {}, test loss {} test accuraccy: {}'.format(\n",
    "    mlp_loss.result(), mlp_accuracy.result(), test_loss, accuracy))"
   ]
  }
 ],
 "metadata": {
  "kernelspec": {
   "display_name": "Python 3",
   "language": "python",
   "name": "python3"
  },
  "language_info": {
   "codemirror_mode": {
    "name": "ipython",
    "version": 3
   },
   "file_extension": ".py",
   "mimetype": "text/x-python",
   "name": "python",
   "nbconvert_exporter": "python",
   "pygments_lexer": "ipython3",
   "version": "3.6.10"
  }
 },
 "nbformat": 4,
 "nbformat_minor": 4
}
