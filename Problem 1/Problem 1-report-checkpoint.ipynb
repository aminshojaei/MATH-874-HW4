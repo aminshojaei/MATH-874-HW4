{
 "cells": [
  {
   "cell_type": "markdown",
   "metadata": {},
   "source": [
    "# Problem 1\n"
   ]
  },
  {
   "cell_type": "markdown",
   "metadata": {},
   "source": [
    "#### Problem: In the context of the Lab 2 file, calculate the output of the evaluate method manually from the output of the predict method.\n"
   ]
  },
  {
   "cell_type": "code",
   "execution_count": 6,
   "metadata": {},
   "outputs": [],
   "source": [
    "import numpy as np\n",
    "import matplotlib.pyplot as plt\n",
    "import tensorflow as tf\n",
    "from math import log"
   ]
  },
  {
   "cell_type": "code",
   "execution_count": 7,
   "metadata": {},
   "outputs": [],
   "source": [
    "def one_hot_encode(Y) :\n",
    "    Output=[]\n",
    "    for y in Y:\n",
    "        if y == [0]:\n",
    "            y = [1,0,0,0,0,0,0,0,0,0]\n",
    "        elif y==[1]:\n",
    "            y = [0,1,0,0,0,0,0,0,0,0]\n",
    "        elif y==[2]:\n",
    "            y = [0,0,1,0,0,0,0,0,0,0]\n",
    "        elif y==[3]:\n",
    "            y = [0,0,0,1,0,0,0,0,0,0]\n",
    "        elif y==[4]:\n",
    "            y = [0,0,0,0,1,0,0,0,0,0]\n",
    "        elif y==[5]:\n",
    "            y = [0,0,0,0,0,1,0,0,0,0]\n",
    "        elif y==[6]:\n",
    "            y = [0,0,0,0,0,0,1,0,0,0]\n",
    "        elif y==[7]:\n",
    "            y = [0,0,0,0,0,0,0,1,0,0]\n",
    "        elif y==[8]:\n",
    "            y = [0,0,0,0,0,0,0,0,1,0]\n",
    "        elif y==[9]:\n",
    "            y = [0,0,0,0,0,0,0,0,0,1]\n",
    "        Output.append(y)\n",
    "    return Output"
   ]
  },
  {
   "cell_type": "code",
   "execution_count": 8,
   "metadata": {},
   "outputs": [],
   "source": [
    "(images_train, labels_train), (images_test, labels_test) = tf.keras.datasets.mnist.load_data()\n",
    "images_train, images_test = images_train/255.0, images_test/255.0"
   ]
  },
  {
   "cell_type": "code",
   "execution_count": 9,
   "metadata": {},
   "outputs": [],
   "source": [
    "x_val = images_train[-10000:]\n",
    "y_val = labels_train[-10000:]\n",
    "images_train = images_train[:-10000]\n",
    "labels_train = labels_train[:-10000]"
   ]
  },
  {
   "cell_type": "code",
   "execution_count": 10,
   "metadata": {},
   "outputs": [],
   "source": [
    "mlp = tf.keras.models.Sequential()\n",
    "mlp.add( tf.keras.layers.Flatten(input_shape=(28, 28)) )\n",
    "mlp.add( tf.keras.layers.Dense(400, activation='relu') )\n",
    "mlp.add( tf.keras.layers.Dense(400, activation='relu') )\n",
    "mlp.add( tf.keras.layers.Dense(10, activation='softmax') )"
   ]
  },
  {
   "cell_type": "code",
   "execution_count": 11,
   "metadata": {},
   "outputs": [],
   "source": [
    "label_test_1 = labels_test\n",
    "labels_train = one_hot_encode(labels_train)\n",
    "labels_train = np.array(labels_train)\n",
    "labels_test = one_hot_encode(labels_test)\n",
    "labels_test = np.array(labels_test)"
   ]
  },
  {
   "cell_type": "code",
   "execution_count": 12,
   "metadata": {},
   "outputs": [],
   "source": [
    "mlp.compile(optimizer='adam',\n",
    "            loss='categorical_crossentropy',\n",
    "            metrics=['accuracy'])"
   ]
  },
  {
   "cell_type": "code",
   "execution_count": 13,
   "metadata": {},
   "outputs": [
    {
     "name": "stdout",
     "output_type": "stream",
     "text": [
      "Epoch 1/3\n",
      "1563/1563 [==============================] - 5s 3ms/step - loss: 0.2092 - accuracy: 0.9377\n",
      "Epoch 2/3\n",
      "1563/1563 [==============================] - 5s 3ms/step - loss: 0.0865 - accuracy: 0.9728\n",
      "Epoch 3/3\n",
      "1563/1563 [==============================] - 5s 3ms/step - loss: 0.0580 - accuracy: 0.9815\n"
     ]
    },
    {
     "data": {
      "text/plain": [
       "<tensorflow.python.keras.callbacks.History at 0x260c78c2f98>"
      ]
     },
     "execution_count": 13,
     "metadata": {},
     "output_type": "execute_result"
    }
   ],
   "source": [
    "mlp.fit(images_train, labels_train, epochs=3)"
   ]
  },
  {
   "cell_type": "code",
   "execution_count": 15,
   "metadata": {},
   "outputs": [
    {
     "name": "stdout",
     "output_type": "stream",
     "text": [
      "INFO:tensorflow:Assets written to: first.model\\assets\n",
      " accuracy for precition is:  98.00999999999999\n",
      "313/313 - 0s\n"
     ]
    },
    {
     "data": {
      "text/plain": [
       "[0.06648848205804825, 0.9800999760627747]"
      ]
     },
     "execution_count": 15,
     "metadata": {},
     "output_type": "execute_result"
    }
   ],
   "source": [
    "mlp.save('first.model')\n",
    "new_mlp = tf.keras.models.load_model('first.model')\n",
    "predictions = new_mlp.predict(images_test)\n",
    "Y_hat = np.argmax(predictions , axis = 1)\n",
    "accuracy = (Y_hat == label_test_1).mean()\n",
    "print(\" accuracy for precition is: \", accuracy*100)\n",
    "\n",
    "\n",
    "mlp.evaluate(images_test, labels_test, verbose=2)"
   ]
  },
  {
   "cell_type": "markdown",
   "metadata": {},
   "source": [
    "So here as the output of the avaluation is shown, the loss of the test is 0.066 and the accuracy is 0.980 . now I want to calculate the accuracy and loss manually form the output of the predict. For doing this, I need to predict the test with following code."
   ]
  }
 ],
 "metadata": {
  "kernelspec": {
   "display_name": "Python 3",
   "language": "python",
   "name": "python3"
  },
  "language_info": {
   "codemirror_mode": {
    "name": "ipython",
    "version": 3
   },
   "file_extension": ".py",
   "mimetype": "text/x-python",
   "name": "python",
   "nbconvert_exporter": "python",
   "pygments_lexer": "ipython3",
   "version": "3.6.10"
  }
 },
 "nbformat": 4,
 "nbformat_minor": 4
}
